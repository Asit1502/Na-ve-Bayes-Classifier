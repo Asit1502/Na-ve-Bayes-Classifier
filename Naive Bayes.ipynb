{
  "nbformat": 4,
  "nbformat_minor": 0,
  "metadata": {
    "colab": {
      "provenance": []
    },
    "kernelspec": {
      "name": "python3",
      "display_name": "Python 3"
    },
    "language_info": {
      "name": "python"
    }
  },
  "cells": [
    {
      "cell_type": "code",
      "source": [
        "from google.colab import drive\n",
        "drive.mount('/content/gdrive')"
      ],
      "metadata": {
        "id": "4Xp9EPHaovNz",
        "colab": {
          "base_uri": "https://localhost:8080/"
        },
        "outputId": "8a3541b2-8c3b-49fc-c2f9-ce8e191c4045"
      },
      "execution_count": null,
      "outputs": [
        {
          "output_type": "stream",
          "name": "stdout",
          "text": [
            "Drive already mounted at /content/gdrive; to attempt to forcibly remount, call drive.mount(\"/content/gdrive\", force_remount=True).\n"
          ]
        }
      ]
    },
    {
      "cell_type": "markdown",
      "source": [
        "NAME: ASIT KUMAR RATH\n",
        "REG NO:21BAI1647"
      ],
      "metadata": {
        "id": "OPEbeaTV-Hfb"
      }
    },
    {
      "cell_type": "code",
      "source": [
        "cd /content/gdrive/My Drive/naive_bayes"
      ],
      "metadata": {
        "colab": {
          "base_uri": "https://localhost:8080/"
        },
        "id": "J4iQf185pWB1",
        "outputId": "4b09f41e-8003-4d8a-9af3-d69f565f154a"
      },
      "execution_count": null,
      "outputs": [
        {
          "output_type": "stream",
          "name": "stdout",
          "text": [
            "/content/gdrive/My Drive/naive_bayes\n"
          ]
        }
      ]
    },
    {
      "cell_type": "code",
      "source": [
        "ls\n"
      ],
      "metadata": {
        "colab": {
          "base_uri": "https://localhost:8080/"
        },
        "id": "wZ1e7gttpdLZ",
        "outputId": "a0487fe8-33d7-4f8c-f730-f0ca3492c04d"
      },
      "execution_count": null,
      "outputs": [
        {
          "output_type": "stream",
          "name": "stdout",
          "text": [
            "music.csv  play.csv\n"
          ]
        }
      ]
    },
    {
      "cell_type": "code",
      "source": [
        "import pandas as pd"
      ],
      "metadata": {
        "id": "uqEZzq92pgb9"
      },
      "execution_count": null,
      "outputs": []
    },
    {
      "cell_type": "code",
      "source": [
        "df = pd.read_csv('play.csv')"
      ],
      "metadata": {
        "id": "la53RLzGq007"
      },
      "execution_count": null,
      "outputs": []
    },
    {
      "cell_type": "code",
      "source": [
        "train_df = df[:-1]\n",
        "test_sample = df.iloc[-1, :-1]"
      ],
      "metadata": {
        "id": "kN8z9QAWrD-J"
      },
      "execution_count": null,
      "outputs": []
    },
    {
      "cell_type": "code",
      "source": [
        "class_counts = train_df['play'].value_counts()\n",
        "class_prior_probabilities = class_counts / class_counts.sum()"
      ],
      "metadata": {
        "id": "FyIpAknCrRiB"
      },
      "execution_count": null,
      "outputs": []
    },
    {
      "cell_type": "code",
      "source": [
        "feature_likelihoods = {}\n",
        "for feature in train_df.columns[:-1]:\n",
        "    feature_likelihoods[feature] = train_df.groupby([feature, 'play']).size() / train_df.groupby('play').size()\n"
      ],
      "metadata": {
        "id": "3QpCUlHLraVk"
      },
      "execution_count": null,
      "outputs": []
    },
    {
      "cell_type": "code",
      "source": [
        "class_likelihoods = {}\n",
        "for class_label in class_counts.index:\n",
        "    class_likelihood = class_prior_probabilities[class_label]\n",
        "    for feature, value in zip(test_sample.index, test_sample.values):\n",
        "        class_likelihood *= feature_likelihoods[feature].get((value, class_label), 0)\n",
        "    class_likelihoods[class_label] = class_likelihood"
      ],
      "metadata": {
        "id": "rkvR_pezrfWO"
      },
      "execution_count": null,
      "outputs": []
    },
    {
      "cell_type": "code",
      "source": [
        "class_conditional_probabilities = {}\n",
        "for class_label, class_likelihood in class_likelihoods.items():\n",
        "    class_conditional_probabilities[class_label] = class_likelihood / sum(class_likelihoods.values())\n"
      ],
      "metadata": {
        "colab": {
          "base_uri": "https://localhost:8080/"
        },
        "id": "t13RzgQWrnUu",
        "outputId": "7c1bdd7b-b980-4f9f-817d-6e8e5041ed3d"
      },
      "execution_count": null,
      "outputs": [
        {
          "output_type": "stream",
          "name": "stderr",
          "text": [
            "<ipython-input-23-144d8118a37b>:3: RuntimeWarning: invalid value encountered in double_scalars\n",
            "  class_conditional_probabilities[class_label] = class_likelihood / sum(class_likelihoods.values())\n"
          ]
        }
      ]
    },
    {
      "cell_type": "code",
      "source": [
        "print(\"Class Prior Probabilities:\")\n",
        "print(class_prior_probabilities)\n",
        "print()\n",
        "\n",
        "print(\"Likelihoods for Test Sample <Rain, Cool, High>:\")\n",
        "print(test_sample)\n",
        "print()\n",
        "\n",
        "print(\"Class Conditional Probabilities:\")\n",
        "for class_label, conditional_prob in class_conditional_probabilities.items():\n",
        "    print(f\"{class_label}: {conditional_prob}\")"
      ],
      "metadata": {
        "colab": {
          "base_uri": "https://localhost:8080/"
        },
        "id": "k-T7Z2Nyr-ct",
        "outputId": "cbb31821-cea1-4394-889c-bbf150bd06af"
      },
      "execution_count": null,
      "outputs": [
        {
          "output_type": "stream",
          "name": "stdout",
          "text": [
            "Class Prior Probabilities:\n",
            "Yes    0.692308\n",
            "No     0.307692\n",
            "Name: play, dtype: float64\n",
            "\n",
            "Likelihoods for Test Sample <Rain, Cool, High>:\n",
            "outlook       Rain\n",
            "temp          Mild\n",
            "humidity      High\n",
            "Unnamed: 3     NaN\n",
            "Name: 13, dtype: object\n",
            "\n",
            "Class Conditional Probabilities:\n",
            "Yes: nan\n",
            "No: nan\n"
          ]
        }
      ]
    },
    {
      "cell_type": "code",
      "source": [
        "import pandas as pd\n",
        "from sklearn.naive_bayes import CategoricalNB"
      ],
      "metadata": {
        "id": "ftn9ut4exQ-U"
      },
      "execution_count": null,
      "outputs": []
    },
    {
      "cell_type": "code",
      "source": [
        "df = pd.read_csv('play.csv')\n"
      ],
      "metadata": {
        "id": "2qySIJeKxcPs"
      },
      "execution_count": null,
      "outputs": []
    },
    {
      "cell_type": "code",
      "source": [
        "X_train = df[['outlook', 'temp', 'humidity', 'wind']]\n",
        "y_train = df['play']"
      ],
      "metadata": {
        "id": "XZSiI3t5yZYP"
      },
      "execution_count": null,
      "outputs": []
    },
    {
      "cell_type": "code",
      "source": [
        "from sklearn.naive_bayes import CategoricalNB\n",
        "from sklearn.preprocessing import LabelEncoder"
      ],
      "metadata": {
        "id": "twbVp5zFzOZn"
      },
      "execution_count": null,
      "outputs": []
    },
    {
      "cell_type": "code",
      "source": [
        "class_counts = y_train.value_counts()\n",
        "class_priors = class_counts / len(y_train)\n",
        "print(\"Class Prior Probabilities:\")\n",
        "print(class_priors)"
      ],
      "metadata": {
        "colab": {
          "base_uri": "https://localhost:8080/"
        },
        "id": "zV58N3iLzcsm",
        "outputId": "b0d59c04-08b6-4bae-a6ac-b2b0cf87d4ed"
      },
      "execution_count": null,
      "outputs": [
        {
          "output_type": "stream",
          "name": "stdout",
          "text": [
            "Class Prior Probabilities:\n",
            "Yes    0.642857\n",
            "No     0.357143\n",
            "Name: play, dtype: float64\n"
          ]
        }
      ]
    },
    {
      "cell_type": "code",
      "source": [
        "class_likelihoods = {}\n",
        "for class_label in class_counts.index:\n",
        "    class_likelihood = class_prior_probabilities[class_label]\n",
        "    for feature, value in zip(test_sample.index, test_sample.values):\n",
        "        class_likelihood *= feature_likelihoods[feature].get((value, class_label), 0)\n",
        "    class_likelihoods[class_label] = class_likelihood"
      ],
      "metadata": {
        "id": "KHw2TKyYzhPw"
      },
      "execution_count": null,
      "outputs": []
    },
    {
      "cell_type": "code",
      "source": [
        "X_test = pd.DataFrame({'outlook': ['Rain'], 'temperature': ['Cool'], 'humidity': ['High'], 'wind': ['Weak']})"
      ],
      "metadata": {
        "id": "F_iHh6ND0SeH"
      },
      "execution_count": null,
      "outputs": []
    },
    {
      "cell_type": "code",
      "source": [
        "le = LabelEncoder()\n",
        "X_encoded = pd.concat([X_train, X_test], ignore_index=True).apply(le.fit_transform)"
      ],
      "metadata": {
        "id": "BadXdQhG0eZG"
      },
      "execution_count": null,
      "outputs": []
    },
    {
      "cell_type": "code",
      "source": [
        "X_train_encoded = X_encoded.iloc[:len(X_train)]\n",
        "clf = CategoricalNB()\n",
        "clf.fit(X_train_encoded, y_train)"
      ],
      "metadata": {
        "colab": {
          "base_uri": "https://localhost:8080/",
          "height": 74
        },
        "id": "ONLqbMna06ek",
        "outputId": "54ba55d9-5cae-49a1-cd4c-0d210eb4a024"
      },
      "execution_count": null,
      "outputs": [
        {
          "output_type": "execute_result",
          "data": {
            "text/plain": [
              "CategoricalNB()"
            ],
            "text/html": [
              "<style>#sk-container-id-2 {color: black;background-color: white;}#sk-container-id-2 pre{padding: 0;}#sk-container-id-2 div.sk-toggleable {background-color: white;}#sk-container-id-2 label.sk-toggleable__label {cursor: pointer;display: block;width: 100%;margin-bottom: 0;padding: 0.3em;box-sizing: border-box;text-align: center;}#sk-container-id-2 label.sk-toggleable__label-arrow:before {content: \"▸\";float: left;margin-right: 0.25em;color: #696969;}#sk-container-id-2 label.sk-toggleable__label-arrow:hover:before {color: black;}#sk-container-id-2 div.sk-estimator:hover label.sk-toggleable__label-arrow:before {color: black;}#sk-container-id-2 div.sk-toggleable__content {max-height: 0;max-width: 0;overflow: hidden;text-align: left;background-color: #f0f8ff;}#sk-container-id-2 div.sk-toggleable__content pre {margin: 0.2em;color: black;border-radius: 0.25em;background-color: #f0f8ff;}#sk-container-id-2 input.sk-toggleable__control:checked~div.sk-toggleable__content {max-height: 200px;max-width: 100%;overflow: auto;}#sk-container-id-2 input.sk-toggleable__control:checked~label.sk-toggleable__label-arrow:before {content: \"▾\";}#sk-container-id-2 div.sk-estimator input.sk-toggleable__control:checked~label.sk-toggleable__label {background-color: #d4ebff;}#sk-container-id-2 div.sk-label input.sk-toggleable__control:checked~label.sk-toggleable__label {background-color: #d4ebff;}#sk-container-id-2 input.sk-hidden--visually {border: 0;clip: rect(1px 1px 1px 1px);clip: rect(1px, 1px, 1px, 1px);height: 1px;margin: -1px;overflow: hidden;padding: 0;position: absolute;width: 1px;}#sk-container-id-2 div.sk-estimator {font-family: monospace;background-color: #f0f8ff;border: 1px dotted black;border-radius: 0.25em;box-sizing: border-box;margin-bottom: 0.5em;}#sk-container-id-2 div.sk-estimator:hover {background-color: #d4ebff;}#sk-container-id-2 div.sk-parallel-item::after {content: \"\";width: 100%;border-bottom: 1px solid gray;flex-grow: 1;}#sk-container-id-2 div.sk-label:hover label.sk-toggleable__label {background-color: #d4ebff;}#sk-container-id-2 div.sk-serial::before {content: \"\";position: absolute;border-left: 1px solid gray;box-sizing: border-box;top: 0;bottom: 0;left: 50%;z-index: 0;}#sk-container-id-2 div.sk-serial {display: flex;flex-direction: column;align-items: center;background-color: white;padding-right: 0.2em;padding-left: 0.2em;position: relative;}#sk-container-id-2 div.sk-item {position: relative;z-index: 1;}#sk-container-id-2 div.sk-parallel {display: flex;align-items: stretch;justify-content: center;background-color: white;position: relative;}#sk-container-id-2 div.sk-item::before, #sk-container-id-2 div.sk-parallel-item::before {content: \"\";position: absolute;border-left: 1px solid gray;box-sizing: border-box;top: 0;bottom: 0;left: 50%;z-index: -1;}#sk-container-id-2 div.sk-parallel-item {display: flex;flex-direction: column;z-index: 1;position: relative;background-color: white;}#sk-container-id-2 div.sk-parallel-item:first-child::after {align-self: flex-end;width: 50%;}#sk-container-id-2 div.sk-parallel-item:last-child::after {align-self: flex-start;width: 50%;}#sk-container-id-2 div.sk-parallel-item:only-child::after {width: 0;}#sk-container-id-2 div.sk-dashed-wrapped {border: 1px dashed gray;margin: 0 0.4em 0.5em 0.4em;box-sizing: border-box;padding-bottom: 0.4em;background-color: white;}#sk-container-id-2 div.sk-label label {font-family: monospace;font-weight: bold;display: inline-block;line-height: 1.2em;}#sk-container-id-2 div.sk-label-container {text-align: center;}#sk-container-id-2 div.sk-container {/* jupyter's `normalize.less` sets `[hidden] { display: none; }` but bootstrap.min.css set `[hidden] { display: none !important; }` so we also need the `!important` here to be able to override the default hidden behavior on the sphinx rendered scikit-learn.org. See: https://github.com/scikit-learn/scikit-learn/issues/21755 */display: inline-block !important;position: relative;}#sk-container-id-2 div.sk-text-repr-fallback {display: none;}</style><div id=\"sk-container-id-2\" class=\"sk-top-container\"><div class=\"sk-text-repr-fallback\"><pre>CategoricalNB()</pre><b>In a Jupyter environment, please rerun this cell to show the HTML representation or trust the notebook. <br />On GitHub, the HTML representation is unable to render, please try loading this page with nbviewer.org.</b></div><div class=\"sk-container\" hidden><div class=\"sk-item\"><div class=\"sk-estimator sk-toggleable\"><input class=\"sk-toggleable__control sk-hidden--visually\" id=\"sk-estimator-id-2\" type=\"checkbox\" checked><label for=\"sk-estimator-id-2\" class=\"sk-toggleable__label sk-toggleable__label-arrow\">CategoricalNB</label><div class=\"sk-toggleable__content\"><pre>CategoricalNB()</pre></div></div></div></div></div>"
            ]
          },
          "metadata": {},
          "execution_count": 50
        }
      ]
    },
    {
      "cell_type": "code",
      "source": [
        "X_test_encoded = X_encoded.iloc[len(X_train):]\n",
        "likelihood = clf.predict_proba(X_test_encoded)"
      ],
      "metadata": {
        "id": "C5TmKG7B3Vvy"
      },
      "execution_count": null,
      "outputs": []
    },
    {
      "cell_type": "code",
      "source": [
        "print(\"Class Prior Probabilities:\")\n",
        "print(class_prior_probabilities)\n",
        "print()\n",
        "\n",
        "print(\"Likelihoods for Test Sample <Rain, Cool, High>:\")\n",
        "print(test_sample)\n",
        "print()\n",
        "\n"
      ],
      "metadata": {
        "colab": {
          "base_uri": "https://localhost:8080/"
        },
        "id": "dVOuCkM91vTz",
        "outputId": "8e7ad223-f9ba-4d22-86ae-94ed617374c0"
      },
      "execution_count": null,
      "outputs": [
        {
          "output_type": "stream",
          "name": "stdout",
          "text": [
            "Class Prior Probabilities:\n",
            "Yes    0.642857\n",
            "No     0.357143\n",
            "Name: play, dtype: float64\n",
            "\n",
            "Likelihoods for Test Sample <Rain, Cool, High>:\n",
            "outlook       Rain\n",
            "temp          Mild\n",
            "humidity      High\n",
            "Unnamed: 3     NaN\n",
            "Name: 13, dtype: object\n",
            "\n"
          ]
        }
      ]
    },
    {
      "cell_type": "code",
      "source": [
        "print(\"Class Conditional Probabilities:\")"
      ],
      "metadata": {
        "colab": {
          "base_uri": "https://localhost:8080/"
        },
        "id": "E0_uuAuY2Hms",
        "outputId": "1efe9931-0367-4d97-ace5-2468abaa1d5e"
      },
      "execution_count": null,
      "outputs": [
        {
          "output_type": "stream",
          "name": "stdout",
          "text": [
            "Class Conditional Probabilities:\n"
          ]
        }
      ]
    },
    {
      "cell_type": "code",
      "source": [
        "print(\"Class Conditional Probabilities:\")\n",
        "print(clf.category_count_)\n"
      ],
      "metadata": {
        "colab": {
          "base_uri": "https://localhost:8080/"
        },
        "id": "6eI64LIz3Ogq",
        "outputId": "4263694e-9d9e-48c1-8e33-14c64cf4a0e0"
      },
      "execution_count": null,
      "outputs": [
        {
          "output_type": "stream",
          "name": "stdout",
          "text": [
            "Class Conditional Probabilities:\n",
            "[array([[0., 2., 3.],\n",
            "       [4., 3., 2.]]), array([[1., 2., 2.],\n",
            "       [3., 2., 4.]]), array([[4., 1.],\n",
            "       [3., 6.]]), array([[3., 2.],\n",
            "       [3., 6.]]), array([[0., 5.],\n",
            "       [0., 9.]])]\n"
          ]
        }
      ]
    },
    {
      "cell_type": "code",
      "source": [
        "from google.colab import drive\n",
        "drive.mount('/content/gdrive')"
      ],
      "metadata": {
        "colab": {
          "base_uri": "https://localhost:8080/"
        },
        "id": "8SMxPghm-Ukw",
        "outputId": "845e3c4e-b6d1-49b6-ab96-317ed2d1da31"
      },
      "execution_count": 1,
      "outputs": [
        {
          "output_type": "stream",
          "name": "stdout",
          "text": [
            "Mounted at /content/gdrive\n"
          ]
        }
      ]
    },
    {
      "cell_type": "code",
      "source": [
        "cd /content/gdrive/My Drive/naive_bayes"
      ],
      "metadata": {
        "colab": {
          "base_uri": "https://localhost:8080/"
        },
        "id": "bMP2SIvg-lk0",
        "outputId": "b98ada0a-6144-4546-c654-15b23c9d39de"
      },
      "execution_count": 2,
      "outputs": [
        {
          "output_type": "stream",
          "name": "stdout",
          "text": [
            "/content/gdrive/My Drive/naive_bayes\n"
          ]
        }
      ]
    },
    {
      "cell_type": "code",
      "source": [
        "ls"
      ],
      "metadata": {
        "colab": {
          "base_uri": "https://localhost:8080/"
        },
        "id": "9j1jfoY7-nVN",
        "outputId": "b986131f-b325-4c9d-a6de-495bb8dda812"
      },
      "execution_count": 3,
      "outputs": [
        {
          "output_type": "stream",
          "name": "stdout",
          "text": [
            "music.csv  play.csv\n"
          ]
        }
      ]
    },
    {
      "cell_type": "code",
      "source": [
        "import pandas as pd\n",
        "from sklearn.model_selection import train_test_split\n",
        "from sklearn.naive_bayes import MultinomialNB\n",
        "from sklearn.metrics import accuracy_score\n",
        "from sklearn.preprocessing import StandardScaler\n",
        "from sklearn.preprocessing import LabelEncoder\n"
      ],
      "metadata": {
        "id": "nfRIEHHsCQhA"
      },
      "execution_count": 18,
      "outputs": []
    },
    {
      "cell_type": "code",
      "source": [
        "data= pd.read_csv('music.csv')"
      ],
      "metadata": {
        "id": "7Pp46jPL-yGf"
      },
      "execution_count": 22,
      "outputs": []
    },
    {
      "cell_type": "code",
      "source": [
        "\n",
        "# Separate features and target variable\n",
        "X = data.drop('emotion', axis=1)\n",
        "y = data['emotion']\n",
        "\n",
        "# Encode the target variable\n",
        "encoder = LabelEncoder()\n",
        "y = encoder.fit_transform(y)\n",
        "\n",
        "# Split the dataset into training and testing sets\n",
        "X_train, X_test, y_train, y_test = train_test_split(X, y, test_size=0.2, random_state=42)\n",
        "\n",
        "# Normalize the features\n",
        "scaler = StandardScaler()\n",
        "X_train = scaler.fit_transform(X_train)\n",
        "X_test = scaler.transform(X_test)\n",
        "\n",
        "# Train the Gaussian Naïve Bayes classifier\n",
        "classifier = GaussianNB()\n",
        "classifier.fit(X_train, y_train)\n",
        "\n",
        "# Make predictions on the test set\n",
        "y_pred = classifier.predict(X_test)\n",
        "\n",
        "# Calculate the accuracy of the model\n",
        "accuracy = accuracy_score(y_test, y_pred)\n",
        "print(\"Accuracy:\", accuracy)"
      ],
      "metadata": {
        "id": "xGTnFukAD6h0"
      },
      "execution_count": null,
      "outputs": []
    }
  ]
}